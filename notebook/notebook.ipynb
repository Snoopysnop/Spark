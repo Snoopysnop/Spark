{
 "cells": [
  {
   "cell_type": "markdown",
   "id": "7a383e20",
   "metadata": {},
   "source": []
  },
  {
   "cell_type": "code",
   "execution_count": 33,
   "id": "8f4b13da-bebe-4834-8727-7d8595136b29",
   "metadata": {},
   "outputs": [],
   "source": [
    "import time\n",
    "import re\n",
    "from pyspark.sql import SparkSession, functions as sf\n",
    "\n",
    "file_path = 'data/sample-2mb-text-file.txt'\n",
    "spark = SparkSession.builder.appName(\"WordCountExample\").getOrCreate()\n"
   ]
  },
  {
   "cell_type": "markdown",
   "id": "a6916164",
   "metadata": {},
   "source": [
    "# Word count"
   ]
  },
  {
   "cell_type": "markdown",
   "id": "72922e9b",
   "metadata": {},
   "source": [
    "## Standard Python"
   ]
  },
  {
   "cell_type": "code",
   "execution_count": 34,
   "id": "03f6add3-6ef2-4c47-9397-c6e3d86664bf",
   "metadata": {},
   "outputs": [
    {
     "name": "stdout",
     "output_type": "stream",
     "text": [
      "Word count : [('elit', 1538), ('parturient.', 36), ('Fames', 107), ('neque', 2070), ('Sodales', 100), ('ac', 2573), ('nibh', 2025), ('nisi', 1183), ('at', 3206), ('nam', 562), ('Lobortis', 146), ('Odio', 331), ('risus', 2238), ('At', 624), ('dis.', 39), ('diam.', 463), ('parturient', 206), ('Nulla', 418), ('lacinia', 418), ('dictum.', 193), ('Congue', 148), ('Dictum', 176), ('Scelerisque', 326), ('interdum', 1024), ('Porta', 114), ('Semper', 195), ('Cras', 245), ('morbi', 2293), ('Id', 695), ('aenean.', 189), ('Ridiculus', 36), ('Hac', 77), ('dictumst.', 48), ('semper', 1193), ('magna', 1225), ('lorem.', 221), ('molestie.', 134), ('magna.', 215), ('Posuere', 192), ('etiam', 942), ('convallis', 1065), ('enim', 2978), ('nascetur', 208), ('eiusmod', 5), ('Natoque', 44), ('tempor.', 182), ('Bibendum', 223), ('Fringilla', 144), ('Lorem', 281), ('egestas', 2783), ('mi', 1644), ('in.', 868), ('senectus', 629), ('Sapien', 146), ('dis', 213), ('massa', 2377), ('sem', 998), ('vel.', 367), ('libero.', 185), ('Montes', 36), ('rhoncus.', 193), ('maecenas', 974), ('sollicitudin.', 152), ('ultrices', 1918), ('Feugiat', 251), ('suscipit', 415), ('rhoncus', 999), ('mauris', 2375), ('Sagittis', 245), ('erat.', 118), ('phasellus.', 103), ('quam.', 320), ('montes', 212), ('metus.', 108), ('Commodo', 280), ('vehicula', 180), ('convallis.', 203), ('ridiculus.', 46), ('placerat', 778), ('hac.', 75), ('arcu.', 440), ('Sed', 986), ('Ante', 76), ('faucibus.', 408), ('aliquet.', 339), ('Lacinia', 70), ('netus.', 130), ('vivamus.', 68), ('gravida', 1574), ('et', 3484), ('cum', 200), ('Fermentum', 225), ('lacinia.', 63), ('fames.', 112), ('In', 896), ('labore', 5), ('netus', 630), ('urna.', 354), ('eu', 2766), ('Malesuada', 251), ('duis', 1178), ('porta.', 98), ('Cursus', 314), ('lobortis.', 127), ('Tincidunt', 418), ('Pretium', 255), ('nisi.', 222), ('Nec', 289), ('rutrum', 411), ('viverra.', 460), ('ligula', 193), ('cras.', 253), ('in', 4748), ('Integer', 215), ('Convallis', 200), ('Dolor', 248), ('laoreet.', 136), ('Potenti', 38), ('venenatis', 1024), ('cursus.', 331), ('platea.', 71), ('Proin', 187), ('et.', 643), ('euismod.', 203), ('Pellentesque', 500), ('sociis', 200), ('euismod', 1030), ('nam.', 104), ('Lacus', 292), ('bibendum', 1254), ('leo', 1323), ('maecenas.', 189), ('ultricies', 1188), ('Eu', 531), ('praesent.', 95), ('tortor.', 363), ('pretium', 1347), ('Tristique', 305), ('pretium.', 284), ('risus.', 420), ('Dignissim', 238), ('Pulvinar', 238), ('dolor.', 223), ('natoque', 210), ('eleifend.', 108), ('aliquam.', 387), ('Dis', 29), ('amet.', 809), ('id', 3853), ('Diam', 514), ('nec', 1506), ('orci.', 290), ('felis.', 158), ('Dui', 262), ('Netus', 126), ('luctus', 376), ('eros.', 78), ('integer', 1140), ('vitae.', 582), ('potenti', 211), ('posuere.', 172), ('Etiam', 169), ('aliquam', 2358), ('Velit', 263), ('ante.', 68), ('nunc.', 653), ('Molestie', 151), ('Libero', 170), ('dictumst', 403), ('Dapibus', 36), ('Laoreet', 143), ('mus.', 38), ('ipsum.', 233), ('Lectus', 339), ('Vel', 393), ('Viverra', 512), ('blandit', 1161), ('suspendisse', 1176), ('condimentum.', 138), ('Nam', 124), ('elementum', 1814), ('Massa', 442), ('Et', 575), ('ipsum', 1430), ('ullamcorper', 1460), ('rutrum.', 65), ('dictum', 1002), ('Sollicitudin', 144), ('dignissim.', 214), ('pellentesque.', 512), ('Facilisis', 198), ('eget.', 678), ('nunc', 3391), ('fusce', 385), ('arcu', 2499), ('facilisis.', 218), ('pulvinar', 1400), ('Porttitor', 194), ('morbi.', 365), ('vehicula.', 39), ('Justo', 163), ('lacus.', 296), ('sodales', 655), ('accumsan', 777), ('magnis', 219), ('leo.', 244), ('quam', 1804), ('justo', 768), ('Metus', 90), ('velit', 1678), ('habitant', 607), ('Luctus', 73), ('tincidunt', 2277), ('scelerisque.', 335), ('Pharetra', 289), ('Aliquet', 313), ('ante', 395), ('Adipiscing', 363), ('Auctor', 191), ('habitant.', 104), ('Erat', 138), ('Amet', 816), ('imperdiet.', 181), ('tincidunt.', 407), ('facilisi', 803), ('Penatibus', 40), ('semper.', 239), ('bibendum.', 234), ('sollicitudin', 788), ('Curabitur', 77), ('Arcu', 453), ('urna', 1995), ('vulputate.', 270), ('Non', 469), ('est', 1581), ('hac', 370), ('Vestibulum', 242), ('enim.', 557), ('Facilisi', 145), ('A', 372), ('Tortor', 379), ('Urna', 357), ('Quam', 301), ('erat', 773), ('purus.', 363), ('pellentesque', 2694), ('Praesent', 118), ('metus', 578), ('suspendisse.', 230), ('quisque', 795), ('diam', 2638), ('quis.', 473), ('mattis.', 352), ('sit', 4541), ('Aenean', 177), ('Vitae', 622), ('non', 2472), ('augue', 1226), ('orci', 1594), ('auctor', 968), ('Tempor', 178), ('commodo', 1336), ('cursus', 1750), ('Leo', 259), ('sagittis.', 260), ('Vulputate', 238), ('Ultrices', 334), ('nibh.', 377), ('Iaculis', 142), ('odio.', 329), ('Senectus', 106), ('eleifend', 598), ('aliquet', 1820), ('Venenatis', 188), ('Euismod', 174), ('dapibus', 210), ('Blandit', 213), ('laoreet', 859), ('nullam.', 141), ('Morbi', 419), ('Condimentum', 149), ('malesuada', 1419), ('a.', 387), ('dui.', 260), ('Ullamcorper', 274), ('justo.', 136), ('tortor', 2035), ('ornare', 1468), ('amet', 4594), ('felis', 994), ('porta', 634), ('Vehicula', 30), ('Tellus', 430), ('mollis.', 82), ('Maecenas', 173), ('a', 2029), ('ultricies.', 218), ('consequat.', 218), ('mattis', 1649), ('curabitur.', 69), ('lectus.', 339), ('Eget', 690), ('lobortis', 840), ('Habitasse', 66), ('Tempus', 183), ('elementum.', 344), ('aliqua.', 5), ('dapibus.', 26), ('viverra', 2583), ('vulputate', 1367), ('Mauris', 437), ('Nibh', 355), ('hendrerit.', 103), ('sit.', 765), ('Augue', 241), ('pharetra.', 299), ('congue.', 144), ('turpis.', 368), ('Egestas', 524), ('adipiscing', 1956), ('Accumsan', 176), ('Orci', 312), ('vitae', 3361), ('hendrerit', 470), ('Ligula', 34), ('sapien', 1039), ('fermentum', 1205), ('elit.', 282), ('Magna', 197), ('Ac', 431), ('penatibus.', 24), ('etiam.', 221), ('dui', 1449), ('Parturient', 36), ('eros', 410), ('penatibus', 230), ('Rhoncus', 152), ('Eros', 81), ('malesuada.', 256), ('porttitor.', 177), ('auctor.', 176), ('Interdum', 179), ('Sociis', 44), ('egestas.', 473), ('fames', 607), ('Nisi', 200), ('volutpat', 1923), ('cum.', 43), ('pharetra', 1632), ('turpis', 1952), ('natoque.', 34), ('Ornare', 248), ('blandit.', 218), ('platea', 378), ('Mattis', 271), ('lacus', 1483), ('Nunc', 604), ('quis', 2588), ('Quisque', 152), ('Volutpat', 354), ('integer.', 203), ('Phasellus', 108), ('dolor', 1268), ('scelerisque', 1762), ('tempus.', 183), ('Rutrum', 67), ('Elementum', 328), ('varius', 1038), ('Sem', 199), ('Cum', 38), ('nec.', 288), ('mollis', 391), ('accumsan.', 141), ('habitasse.', 64), ('tempor', 928), ('Mollis', 68), ('aenean', 1041), ('odio', 1815), ('iaculis.', 180), ('imperdiet', 1011), ('porttitor', 962), ('habitasse', 383), ('feugiat.', 306), ('tellus', 2407), ('Turpis', 373), ('Suscipit', 55), ('curabitur', 418), ('augue.', 212), ('Felis', 153), ('posuere', 1004), ('mauris.', 411), ('mus', 189), ('nulla', 2412), ('Dictumst', 69), ('donec', 1421), ('libero', 981), ('dolore', 5), ('Nullam', 148), ('tempus', 988), ('Quis', 471), ('vestibulum', 1216), ('donec.', 251), ('Est', 271), ('Suspendisse', 224), ('nascetur.', 40), ('eget', 3700), ('Varius', 198), ('Mus', 32), ('Vivamus', 69), ('ut.', 715), ('id.', 699), ('volutpat.', 342), ('duis.', 222), ('massa.', 465), ('placerat.', 162), ('molestie', 813), ('eu.', 546), ('ullamcorper.', 268), ('ligula.', 36), ('congue', 771), ('senectus.', 106), ('proin', 1121), ('Neque', 333), ('fusce.', 73), ('faucibus', 2180), ('condimentum', 826), ('fermentum.', 215), ('Fusce', 86), ('Duis', 231), ('amet,', 5), ('sem.', 181), ('Purus', 326), ('vel', 1979), ('Nisl', 304), ('Nascetur', 29), ('fringilla.', 128), ('facilisi.', 135), ('dignissim', 1198), ('ultrices.', 328), ('nisl.', 295), ('phasellus', 610), ('nulla.', 427), ('consequat', 1203), ('sociis.', 38), ('fringilla', 815), ('praesent', 594), ('mi.', 290), ('est.', 301), ('Placerat', 141), ('vestibulum.', 231), ('consectetur.', 256), ('sagittis', 1460), ('Sit', 867), ('Donec', 250), ('Magnis', 33), ('potenti.', 37), ('consectetur', 1312), ('sed', 5650), ('proin.', 217), ('feugiat', 1613), ('luctus.', 63), ('Mi', 308), ('ornare.', 280), ('quisque.', 158), ('lectus', 1890), ('Imperdiet', 180), ('tristique.', 291), ('non.', 433), ('Faucibus', 392), ('commodo.', 225), ('iaculis', 756), ('do', 5), ('Eleifend', 119), ('Hendrerit', 79), ('nullam', 804), ('Risus', 410), ('Platea', 73), ('varius.', 193), ('suscipit.', 77), ('ridiculus', 191), ('Consequat', 227), ('venenatis.', 173), ('Consectetur', 235), ('vivamus', 398), ('adipiscing.', 313), ('cras', 1487), ('tristique', 1627), ('velit.', 286), ('ac.', 506), ('at.', 583), ('lorem', 1147), ('Ultricies', 226), ('incididunt', 5), ('sapien.', 167), ('elit,', 5), ('sodales.', 87), ('interdum.', 200), ('Ut', 731), ('pulvinar.', 286), ('Aliquam', 436), ('Ipsum', 286), ('facilisis', 1210), ('neque.', 398), ('gravida.', 310), ('magnis.', 43), ('ut', 3812), ('nisl', 1895), ('Enim', 540), ('montes.', 30), ('tellus.', 445), ('sed.', 1014), ('Elit', 308), ('Habitant', 124), ('purus', 2007), ('Gravida', 268)]\n",
      "Elasped time : 3.917999029159546\n"
     ]
    }
   ],
   "source": [
    "start = time.time()\n",
    "\n",
    "with open(file_path) as file:\n",
    "    text = file.read()\n",
    "\n",
    "words = re.split(\"\\s+\", text)\n",
    "result = []\n",
    "for word in set(words):\n",
    "    result.append((word, words.count(word)))\n",
    "\n",
    "end = time.time()\n",
    "\n",
    "print(\"Word count :\", result)\n",
    "print(\"Elasped time :\", end - start)"
   ]
  },
  {
   "cell_type": "markdown",
   "id": "ead2be87",
   "metadata": {},
   "source": [
    "## Spark with RDD"
   ]
  },
  {
   "cell_type": "code",
   "execution_count": 36,
   "id": "871e7138",
   "metadata": {},
   "outputs": [
    {
     "name": "stderr",
     "output_type": "stream",
     "text": [
      "[Stage 3:>                                                          (0 + 2) / 2]\r"
     ]
    },
    {
     "name": "stdout",
     "output_type": "stream",
     "text": [
      "Word count : [('Lorem', 281), ('ipsum', 1430), ('consectetur', 1312), ('sed', 5650), ('do', 5), ('labore', 5), ('magna', 1225), ('Velit', 263), ('scelerisque', 1762), ('in', 4748), ('dictum', 1002), ('erat.', 118), ('Sit', 867), ('amet', 4594), ('justo', 768), ('diam', 2638), ('vulputate.', 270), ('lectus', 1890), ('nibh', 2025), ('condimentum', 826), ('venenatis', 1024), ('sociis', 200), ('natoque', 210), ('Habitant', 124), ('et.', 643), ('Interdum', 179), ('faucibus', 2180), ('eget', 3700), ('nullam.', 141), ('Aliquam', 436), ('purus', 2007), ('augue', 1226), ('interdum', 1024), ('sodales', 655), ('etiam', 942), ('sit.', 765), ('Quam', 301), ('sagittis', 1460), ('odio', 1815), ('mauris.', 411), ('nisi', 1183), ('lacus', 1483), ('Iaculis', 142), ('at', 3206), ('erat', 773), ('pellentesque', 2694), ('commodo', 1336), ('dui.', 260), ('nulla', 2412), ('porttitor', 962), ('quis', 2588), ('lobortis', 840), ('fermentum', 1205), ('Turpis', 373), ('integer', 1140), ('', 2847), ('vitae', 3361), ('Dolor', 248), ('convallis', 1065), ('aenean', 1041), ('at.', 583), ('commodo.', 225), ('Viverra', 512), ('potenti', 211), ('Elementum', 328), ('tellus', 2407), ('molestie', 813), ('nunc', 3391), ('enim.', 557), ('Ultricies', 226), ('Varius', 198), ('condimentum.', 138), ('Adipiscing', 363), ('Nascetur', 29), ('mus', 189), ('leo', 1323), ('cursus', 1750), ('massa.', 465), ('Blandit', 213), ('hac', 370), ('habitasse', 383), ('platea.', 71), ('mattis', 1649), ('Diam', 514), ('suscipit', 415), ('bibendum', 1254), ('pharetra.', 299), ('vulputate', 1367), ('Tristique', 305), ('fusce.', 73), ('maecenas', 974), ('mi', 1644), ('congue', 771), ('quisque', 795), ('feugiat', 1613), ('consequat.', 218), ('fringilla', 815), ('phasellus', 610), ('scelerisque.', 335), ('donec.', 251), ('Cum', 38), ('dis', 213), ('montes.', 30), ('Habitasse', 66), ('volutpat.', 342), ('Magna', 197), ('Gravida', 268), ('convallis.', 203), ('Consequat', 227), ('quam', 1804), ('urna', 1995), ('eget.', 678), ('est', 1581), ('ante', 395), ('nibh.', 377), ('Pellentesque', 500), ('Laoreet', 143), ('tincidunt.', 407), ('Ipsum', 286), ('ut.', 715), ('Ullamcorper', 274), ('malesuada', 1419), ('quis.', 473), ('Libero', 170), ('cras', 1487), ('ornare', 1468), ('metus', 578), ('Sed', 986), ('Mi', 308), ('ullamcorper', 1460), ('Nibh', 355), ('Commodo', 280), ('habitasse.', 64), ('varius', 1038), ('Leo', 259), ('facilisi', 803), ('dignissim.', 214), ('At', 624), ('iaculis', 756), ('Tellus', 430), ('lacinia', 418), ('Purus', 326), ('felis.', 158), ('rhoncus', 999), ('neque.', 398), ('habitant', 607), ('netus.', 130), ('Vehicula', 30), ('duis', 1178), ('Elit', 308), ('Nunc', 604), ('vivamus.', 68), ('lacus.', 296), ('congue.', 144), ('Cras', 245), ('felis', 994), ('sollicitudin', 788), ('rutrum', 411), ('interdum.', 200), ('Non', 469), ('amet.', 809), ('magnis.', 43), ('Bibendum', 223), ('adipiscing.', 313), ('Nam', 124), ('sapien', 1039), ('purus.', 363), ('Accumsan', 176), ('suscipit.', 77), ('pulvinar.', 286), ('ac.', 506), ('Arcu', 453), ('Dui', 262), ('Metus', 90), ('Proin', 187), ('ipsum.', 233), ('cum.', 43), ('Senectus', 106), ('mollis', 391), ('lorem.', 221), ('Convallis', 200), ('Nisi', 200), ('Euismod', 174), ('Duis', 231), ('venenatis.', 173), ('Orci', 312), ('mollis.', 82), ('Lobortis', 146), ('Quisque', 152), ('sollicitudin.', 152), ('nunc.', 653), ('bibendum.', 234), ('gravida.', 310), ('Maecenas', 173), ('Est', 271), ('elit.', 282), ('Molestie', 151), ('augue.', 212), ('Netus', 126), ('Pharetra', 289), ('ornare.', 280), ('nam.', 104), ('Vestibulum', 242), ('Aliquet', 313), ('cursus.', 331), ('Tempus', 183), ('facilisi.', 135), ('nascetur', 208), ('dictum.', 193), ('facilisis.', 218), ('Parturient', 36), ('ultricies.', 218), ('Pulvinar', 238), ('feugiat.', 306), ('Cursus', 314), ('accumsan.', 141), ('Erat', 138), ('Condimentum', 149), ('sodales.', 87), ('Posuere', 192), ('elementum.', 344), ('Donec', 250), ('parturient.', 36), ('Luctus', 73), ('Vulputate', 238), ('Sagittis', 245), ('Dis', 29), ('Porttitor', 194), ('Aenean', 177), ('iaculis.', 180), ('Natoque', 44), ('Vivamus', 69), ('Felis', 153), ('dictumst.', 48), ('sapien.', 167), ('quisque.', 158), ('fringilla.', 128), ('pretium.', 284), ('etiam.', 221), ('Ridiculus', 36), ('ante.', 68), ('dapibus', 210), ('Rhoncus', 152), ('Ligula', 34), ('Sollicitudin', 144), ('posuere.', 172), ('Potenti', 38), ('Magnis', 33), ('rutrum.', 65), ('justo.', 136), ('potenti.', 37), ('Rutrum', 67), ('ligula.', 36), ('Mollis', 68), ('lacinia.', 63), ('nascetur.', 40), ('mus.', 38), ('dolor', 1268), ('sit', 4541), ('amet,', 5), ('adipiscing', 1956), ('elit,', 5), ('eiusmod', 5), ('tempor', 928), ('incididunt', 5), ('ut', 3812), ('et', 3484), ('dolore', 5), ('aliqua.', 5), ('non', 2472), ('a', 2029), ('donec', 1421), ('enim', 2978), ('Id', 695), ('aliquet', 1820), ('proin', 1121), ('nisl', 1895), ('id', 3853), ('a.', 387), ('Eget', 690), ('gravida', 1574), ('cum', 200), ('penatibus', 230), ('magnis', 219), ('dis.', 39), ('morbi', 2293), ('tristique', 1627), ('senectus', 629), ('netus', 630), ('libero', 981), ('tincidunt', 2277), ('luctus.', 63), ('Fringilla', 144), ('velit.', 286), ('Neque', 333), ('viverra', 2583), ('orci', 1594), ('eu', 2766), ('volutpat', 1923), ('facilisis', 1210), ('Ornare', 248), ('suspendisse', 1176), ('sed.', 1014), ('elit', 1538), ('imperdiet', 1011), ('massa', 2377), ('neque', 2070), ('aliquam', 2358), ('vestibulum', 1216), ('morbi.', 365), ('Dignissim', 238), ('dui', 1449), ('faucibus.', 408), ('egestas', 2783), ('aliquet.', 339), ('In', 896), ('ultrices', 1918), ('auctor', 968), ('eu.', 546), ('duis.', 222), ('Tortor', 379), ('dignissim', 1198), ('tortor', 2035), ('nullam', 804), ('ac', 2573), ('tortor.', 363), ('blandit', 1161), ('vel', 1979), ('pharetra', 1632), ('turpis', 1952), ('lorem', 1147), ('dolor.', 223), ('luctus', 376), ('lectus.', 339), ('ridiculus', 191), ('mauris', 2375), ('ultricies', 1188), ('integer.', 203), ('Urna', 357), ('metus.', 108), ('Feugiat', 251), ('ullamcorper.', 268), ('est.', 301), ('Enim', 540), ('pretium', 1347), ('Amet', 816), ('Risus', 410), ('accumsan', 777), ('vel.', 367), ('Eu', 531), ('in.', 868), ('Fermentum', 225), ('Egestas', 524), ('parturient', 206), ('platea', 378), ('dictumst', 403), ('elementum', 1814), ('molestie.', 134), ('arcu', 2499), ('Mauris', 437), ('phasellus.', 103), ('fusce', 385), ('Sapien', 146), ('turpis.', 368), ('consequat', 1203), ('varius.', 193), ('Suscipit', 55), ('arcu.', 440), ('aenean.', 189), ('vivamus', 398), ('risus', 2238), ('tempus.', 183), ('Ultrices', 334), ('placerat.', 162), ('Malesuada', 251), ('fames', 607), ('praesent', 594), ('placerat', 778), ('porttitor.', 177), ('euismod', 1030), ('Facilisi', 145), ('Massa', 442), ('Scelerisque', 326), ('vitae.', 582), ('rhoncus.', 193), ('malesuada.', 256), ('Placerat', 141), ('leo.', 244), ('tempus', 988), ('pellentesque.', 512), ('sociis.', 38), ('tempor.', 182), ('posuere', 1004), ('nec', 1506), ('semper', 1193), ('mi.', 290), ('Vel', 393), ('velit', 1678), ('egestas.', 473), ('viverra.', 460), ('sagittis.', 260), ('Et', 575), ('pulvinar', 1400), ('Morbi', 419), ('Vitae', 622), ('non.', 433), ('Volutpat', 354), ('blandit.', 218), ('Suspendisse', 224), ('mattis.', 352), ('tellus.', 445), ('nulla.', 427), ('id.', 699), ('sem.', 181), ('Lacus', 292), ('odio.', 329), ('Nisl', 304), ('laoreet', 859), ('A', 372), ('nam', 562), ('ligula', 193), ('Ut', 731), ('laoreet.', 136), ('Tincidunt', 418), ('sem', 998), ('porta.', 98), ('Ac', 431), ('hendrerit', 470), ('semper.', 239), ('Nec', 289), ('urna.', 354), ('Consectetur', 235), ('Quis', 471), ('porta', 634), ('eleifend.', 108), ('Sem', 199), ('Lectus', 339), ('fames.', 112), ('suspendisse.', 230), ('nisi.', 222), ('aliquam.', 387), ('risus.', 420), ('euismod.', 203), ('Nulla', 418), ('vehicula', 180), ('Mattis', 271), ('Hac', 77), ('Hendrerit', 79), ('auctor.', 176), ('eleifend', 598), ('Dictum', 176), ('Sodales', 100), ('magna.', 215), ('fermentum.', 215), ('Facilisis', 198), ('Augue', 241), ('Eleifend', 119), ('Semper', 195), ('Faucibus', 392), ('nisl.', 295), ('cras.', 253), ('Etiam', 169), ('Justo', 163), ('consectetur.', 256), ('Ante', 76), ('diam.', 463), ('Imperdiet', 180), ('quam.', 320), ('eros', 410), ('tristique.', 291), ('lobortis.', 127), ('Phasellus', 108), ('Venenatis', 188), ('Pretium', 255), ('Fames', 107), ('Integer', 215), ('curabitur', 418), ('libero.', 185), ('praesent.', 95), ('Dictumst', 69), ('Montes', 36), ('orci.', 290), ('montes', 212), ('Eros', 81), ('ultrices.', 328), ('proin.', 217), ('Fusce', 86), ('Auctor', 191), ('Tempor', 178), ('hendrerit.', 103), ('Odio', 331), ('nec.', 288), ('maecenas.', 189), ('Sociis', 44), ('Platea', 73), ('imperdiet.', 181), ('ridiculus.', 46), ('hac.', 75), ('penatibus.', 24), ('Praesent', 118), ('Curabitur', 77), ('Lacinia', 70), ('Nullam', 148), ('vehicula.', 39), ('Porta', 114), ('eros.', 78), ('Congue', 148), ('vestibulum.', 231), ('natoque.', 34), ('habitant.', 104), ('senectus.', 106), ('Dapibus', 36), ('Mus', 32), ('curabitur.', 69), ('dapibus.', 26), ('Penatibus', 40)]\n",
      "Elasped time : 1.4259734153747559\n"
     ]
    },
    {
     "name": "stderr",
     "output_type": "stream",
     "text": [
      "                                                                                \r"
     ]
    }
   ],
   "source": [
    "start = time.time()\n",
    "\n",
    "text = spark.sparkContext.textFile(file_path)\n",
    "word_counts_rdd = text.flatMap(lambda line: line.split(\"\\s+\")) \\\n",
    "    .map(lambda word: (word, 1)) \\\n",
    "    .reduceByKey(lambda a, b: a + b)\n",
    "result = word_counts_rdd.collect()\n",
    "\n",
    "end = time.time()\n",
    "print(\"Word count :\", result)\n",
    "print(\"Elasped time :\", end - start)\n"
   ]
  },
  {
   "cell_type": "markdown",
   "id": "3ecacec7",
   "metadata": {},
   "source": [
    "## Using Spark with DataFrames"
   ]
  },
  {
   "cell_type": "code",
   "execution_count": 35,
   "id": "85da6934-d520-4953-b117-d1a3d895dcf4",
   "metadata": {},
   "outputs": [
    {
     "name": "stdout",
     "output_type": "stream",
     "text": [
      "Word count : [Row(word='Sit', count=867), Row(word='Elit', count=308), Row(word='vehicula.', count=39), Row(word='eros.', count=78), Row(word='nam.', count=104), Row(word='dui.', count=260), Row(word='porttitor', count=962), Row(word='eleifend.', count=108), Row(word='consectetur.', count=256), Row(word='senectus.', count=106), Row(word='odio', count=1815), Row(word='Turpis', count=373), Row(word='Sed', count=986), Row(word='volutpat', count=1923), Row(word='integer.', count=203), Row(word='interdum', count=1024), Row(word='pretium', count=1347), Row(word='Eu', count=531), Row(word='semper.', count=239), Row(word='nisl.', count=295), Row(word='non.', count=433), Row(word='sem.', count=181), Row(word='ipsum.', count=233), Row(word='habitant.', count=104), Row(word='vel.', count=367), Row(word='volutpat.', count=342), Row(word='Sem', count=199), Row(word='Quisque', count=152), Row(word='Cursus', count=314), Row(word='tempor.', count=182), Row(word='sagittis', count=1460), Row(word='felis.', count=158), Row(word='pellentesque.', count=512), Row(word='hendrerit', count=470), Row(word='porta.', count=98), Row(word='netus', count=630), Row(word='duis.', count=222), Row(word='Rutrum', count=67), Row(word='morbi.', count=365), Row(word='velit', count=1678), Row(word='sollicitudin', count=788), Row(word='hendrerit.', count=103), Row(word='Habitasse', count=66), Row(word='imperdiet.', count=181), Row(word='lorem', count=1147), Row(word='nam', count=562), Row(word='vitae', count=3361), Row(word='molestie', count=813), Row(word='rhoncus.', count=193), Row(word='Maecenas', count=173), Row(word='Sociis', count=44), Row(word='penatibus', count=230), Row(word='Egestas', count=524), Row(word='sociis.', count=38), Row(word='Nunc', count=604), Row(word='non', count=2472), Row(word='Gravida', count=268), Row(word='Cum', count=38), Row(word='magnis.', count=43), Row(word='venenatis.', count=173), Row(word='fermentum.', count=215), Row(word='proin.', count=217), Row(word='eiusmod', count=5), Row(word='Aliquam', count=436), Row(word='arcu', count=2499), Row(word='quam', count=1804), Row(word='placerat', count=778), Row(word='tellus.', count=445), Row(word='Tempus', count=183), Row(word='Ornare', count=248), Row(word='dui', count=1449), Row(word='ante', count=395), Row(word='In', count=896), Row(word='netus.', count=130), Row(word='laoreet.', count=136), Row(word='sit', count=4541), Row(word='pharetra.', count=299), Row(word='Senectus', count=106), Row(word='Dictumst', count=69), Row(word='fermentum', count=1205), Row(word='Consequat', count=227), Row(word='Aliquet', count=313), Row(word='ante.', count=68), Row(word='Magna', count=197), Row(word='vitae.', count=582), Row(word='Sollicitudin', count=144), Row(word='odio.', count=329), Row(word='vulputate.', count=270), Row(word='erat', count=773), Row(word='ornare', count=1468), Row(word='nec.', count=288), Row(word='quisque', count=795), Row(word='suscipit.', count=77), Row(word='Quis', count=471), Row(word='Aenean', count=177), Row(word='aliquet.', count=339), Row(word='consectetur', count=1312), Row(word='Tortor', count=379), Row(word='facilisi', count=803), Row(word='Et', count=575), Row(word='nulla.', count=427), Row(word='laoreet', count=859), Row(word='Fusce', count=86), Row(word='Auctor', count=191), Row(word='praesent.', count=95), Row(word='Montes', count=36), Row(word='ridiculus.', count=46), Row(word='bibendum', count=1254), Row(word='malesuada', count=1419), Row(word='aenean.', count=189), Row(word='porttitor.', count=177), Row(word='Fames', count=107), Row(word='ridiculus', count=191), Row(word='scelerisque.', count=335), Row(word='placerat.', count=162), Row(word='Duis', count=231), Row(word='Orci', count=312), Row(word='Posuere', count=192), Row(word='facilisis.', count=218), Row(word='varius.', count=193), Row(word='rhoncus', count=999), Row(word='Eleifend', count=119), Row(word='Magnis', count=33), Row(word='rutrum.', count=65), Row(word='Blandit', count=213), Row(word='Justo', count=163), Row(word='in', count=4748), Row(word='diam', count=2638), Row(word='natoque', count=210), Row(word='enim.', count=557), Row(word='fringilla', count=815), Row(word='tempus', count=988), Row(word='Tellus', count=430), Row(word='ultrices.', count=328), Row(word='praesent', count=594), Row(word='Lacinia', count=70), Row(word='Penatibus', count=40), Row(word='Suspendisse', count=224), Row(word='curabitur.', count=69), Row(word='enim', count=2978), Row(word='urna.', count=354), Row(word='et.', count=643), Row(word='commodo', count=1336), Row(word='Hac', count=77), Row(word='Venenatis', count=188), Row(word='Platea', count=73), Row(word='Diam', count=514), Row(word='leo.', count=244), Row(word='posuere.', count=172), Row(word='Tristique', count=305), Row(word='ultricies', count=1188), Row(word='vivamus', count=398), Row(word='Mattis', count=271), Row(word='orci.', count=290), Row(word='lacus.', count=296), Row(word='Libero', count=170), Row(word='Metus', count=90), Row(word='natoque.', count=34), Row(word='ultrices', count=1918), Row(word='nullam', count=804), Row(word='vel', count=1979), Row(word='Scelerisque', count=326), Row(word='Erat', count=138), Row(word='donec', count=1421), Row(word='Tempor', count=178), Row(word='Elementum', count=328), Row(word='pretium.', count=284), Row(word='adipiscing.', count=313), Row(word='luctus.', count=63), Row(word='mauris.', count=411), Row(word='bibendum.', count=234), Row(word='Luctus', count=73), Row(word='potenti', count=211), Row(word='mauris', count=2375), Row(word='accumsan', count=777), Row(word='Risus', count=410), Row(word='cursus.', count=331), Row(word='magnis', count=219), Row(word='quisque.', count=158), Row(word='magna', count=1225), Row(word='Sapien', count=146), Row(word='aliquam.', count=387), Row(word='augue.', count=212), Row(word='curabitur', count=418), Row(word='fringilla.', count=128), Row(word='justo', count=768), Row(word='ullamcorper.', count=268), Row(word='lacus', count=1483), Row(word='auctor.', count=176), Row(word='accumsan.', count=141), Row(word='Sagittis', count=245), Row(word='egestas', count=2783), Row(word='mattis', count=1649), Row(word='consequat', count=1203), Row(word='parturient.', count=36), Row(word='Mauris', count=437), Row(word='Integer', count=215), Row(word='aliquet', count=1820), Row(word='Ultricies', count=226), Row(word='semper', count=1193), Row(word='ligula', count=193), Row(word='Dis', count=29), Row(word='dolor', count=1268), Row(word='fusce.', count=73), Row(word='Facilisi', count=145), Row(word='massa.', count=465), Row(word='facilisi.', count=135), Row(word='Amet', count=816), Row(word='eros', count=410), Row(word='ultricies.', count=218), Row(word='tincidunt', count=2277), Row(word='vestibulum', count=1216), Row(word='Urna', count=357), Row(word='Ridiculus', count=36), Row(word='neque', count=2070), Row(word='Malesuada', count=251), Row(word='viverra.', count=460), Row(word='lorem.', count=221), Row(word='Quam', count=301), Row(word='donec.', count=251), Row(word='turpis.', count=368), Row(word='Vel', count=393), Row(word='dictumst.', count=48), Row(word='incididunt', count=5), Row(word='suspendisse', count=1176), Row(word='auctor', count=968), Row(word='consequat.', count=218), Row(word='Pharetra', count=289), Row(word='Curabitur', count=77), Row(word='Mus', count=32), Row(word='venenatis', count=1024), Row(word='purus', count=2007), Row(word='eu', count=2766), Row(word='congue', count=771), Row(word='urna', count=1995), Row(word='cras', count=1487), Row(word='iaculis', count=756), Row(word='etiam', count=942), Row(word='imperdiet', count=1011), Row(word='in.', count=868), Row(word='habitant', count=607), Row(word='erat.', count=118), Row(word='aenean', count=1041), Row(word='hac', count=370), Row(word='eget', count=3700), Row(word='Fermentum', count=225), Row(word='Bibendum', count=223), Row(word='vehicula', count=180), Row(word='Eget', count=690), Row(word='gravida', count=1574), Row(word='Accumsan', count=176), Row(word='dictumst', count=403), Row(word='Hendrerit', count=79), Row(word='tristique.', count=291), Row(word='metus.', count=108), Row(word='purus.', count=363), Row(word='porta', count=634), Row(word='aliqua.', count=5), Row(word='dignissim.', count=214), Row(word='sapien', count=1039), Row(word='ornare.', count=280), Row(word='integer', count=1140), Row(word='Rhoncus', count=152), Row(word='suscipit', count=415), Row(word='Fringilla', count=144), Row(word='nisi', count=1183), Row(word='Augue', count=241), Row(word='faucibus.', count=408), Row(word='Volutpat', count=354), Row(word='hac.', count=75), Row(word='quam.', count=320), Row(word='Mollis', count=68), Row(word='mus', count=189), Row(word='felis', count=994), Row(word='Non', count=469), Row(word='Lacus', count=292), Row(word='vulputate', count=1367), Row(word='quis.', count=473), Row(word='A', count=372), Row(word='faucibus', count=2180), Row(word='sodales', count=655), Row(word='turpis', count=1952), Row(word='Nascetur', count=29), Row(word='Ullamcorper', count=274), Row(word='Tincidunt', count=418), Row(word='Semper', count=195), Row(word='neque.', count=398), Row(word='mollis', count=391), Row(word='sapien.', count=167), Row(word='sed.', count=1014), Row(word='Velit', count=263), Row(word='elementum', count=1814), Row(word='pulvinar', count=1400), Row(word='cum', count=200), Row(word='magna.', count=215), Row(word='sodales.', count=87), Row(word='Porta', count=114), Row(word='At', count=624), Row(word='dapibus', count=210), Row(word='Netus', count=126), Row(word='Iaculis', count=142), Row(word='Dolor', count=248), Row(word='convallis', count=1065), Row(word='Nibh', count=355), Row(word='Consectetur', count=235), Row(word='nisi.', count=222), Row(word='Potenti', count=38), Row(word='Feugiat', count=251), Row(word='Laoreet', count=143), Row(word='malesuada.', count=256), Row(word='suspendisse.', count=230), Row(word='ac', count=2573), Row(word='egestas.', count=473), Row(word='montes', count=212), Row(word='lacinia.', count=63), Row(word='nibh', count=2025), Row(word='Interdum', count=179), Row(word='phasellus', count=610), Row(word='Vestibulum', count=242), Row(word='Ligula', count=34), Row(word='luctus', count=376), Row(word='Lectus', count=339), Row(word='condimentum', count=826), Row(word='maecenas', count=974), Row(word='varius', count=1038), Row(word='euismod', count=1030), Row(word='ut.', count=715), Row(word='interdum.', count=200), Row(word='leo', count=1323), Row(word='platea', count=378), Row(word='Est', count=271), Row(word='Varius', count=198), Row(word='platea.', count=71), Row(word='sem', count=998), Row(word='Nec', count=289), Row(word='Facilisis', count=198), Row(word='scelerisque', count=1762), Row(word='blandit.', count=218), Row(word='mus.', count=38), Row(word='Molestie', count=151), Row(word='amet.', count=809), Row(word='sagittis.', count=260), Row(word='Vivamus', count=69), Row(word='Dapibus', count=36), Row(word='lectus', count=1890), Row(word='lobortis', count=840), Row(word='feugiat', count=1613), Row(word='lacinia', count=418), Row(word='feugiat.', count=306), Row(word='do', count=5), Row(word='Vitae', count=622), Row(word='dapibus.', count=26), Row(word='Ac', count=431), Row(word='labore', count=5), Row(word='mi.', count=290), Row(word='elementum.', count=344), Row(word='Enim', count=540), Row(word='metus', count=578), Row(word='nulla', count=2412), Row(word='nibh.', count=377), Row(word='Vehicula', count=30), Row(word='nunc.', count=653), Row(word='diam.', count=463), Row(word='dis', count=213), Row(word='nec', count=1506), Row(word='Odio', count=331), Row(word='potenti.', count=37), Row(word='Lorem', count=281), Row(word='ullamcorper', count=1460), Row(word='Leo', count=259), Row(word='fames.', count=112), Row(word='Dictum', count=176), Row(word='Viverra', count=512), Row(word='est.', count=301), Row(word='dignissim', count=1198), Row(word='posuere', count=1004), Row(word='Nulla', count=418), Row(word='nisl', count=1895), Row(word='tristique', count=1627), Row(word='vivamus.', count=68), Row(word='etiam.', count=221), Row(word='nascetur.', count=40), Row(word='montes.', count=30), Row(word='congue.', count=144), Row(word='Parturient', count=36), Row(word='lectus.', count=339), Row(word='maecenas.', count=189), Row(word='amet,', count=5), Row(word='Id', count=695), Row(word='dis.', count=39), Row(word='Ultrices', count=334), Row(word='nascetur', count=208), Row(word='Felis', count=153), Row(word='proin', count=1121), Row(word='velit.', count=286), Row(word='lobortis.', count=127), Row(word='parturient', count=206), Row(word='dolore', count=5), Row(word='mollis.', count=82), Row(word='ipsum', count=1430), Row(word='morbi', count=2293), Row(word='Ut', count=731), Row(word='ac.', count=506), Row(word='dictum', count=1002), Row(word='fames', count=607), Row(word='Habitant', count=124), Row(word='facilisis', count=1210), Row(word='Donec', count=250), Row(word='Vulputate', count=238), Row(word='at', count=3206), Row(word='iaculis.', count=180), Row(word='penatibus.', count=24), Row(word='justo.', count=136), Row(word='cursus', count=1750), Row(word='Suscipit', count=55), Row(word='Euismod', count=174), Row(word='sed', count=5650), Row(word='pulvinar.', count=286), Row(word='tempor', count=928), Row(word='Adipiscing', count=363), Row(word='Natoque', count=44), Row(word='orci', count=1594), Row(word='mattis.', count=352), Row(word='Condimentum', count=149), Row(word='vestibulum.', count=231), Row(word='nullam.', count=141), Row(word='aliquam', count=2358), Row(word='habitasse', count=383), Row(word='molestie.', count=134), Row(word='risus.', count=420), Row(word='at.', count=583), Row(word='mi', count=1644), Row(word='et', count=3484), Row(word='Dignissim', count=238), Row(word='blandit', count=1161), Row(word='Faucibus', count=392), Row(word='Praesent', count=118), Row(word='Congue', count=148), Row(word='ligula.', count=36), Row(word='a', count=2029), Row(word='libero', count=981), Row(word='gravida.', count=310), Row(word='Porttitor', count=194), Row(word='Phasellus', count=108), Row(word='', count=2847), Row(word='Proin', count=187), Row(word='quis', count=2588), Row(word='Massa', count=442), Row(word='tortor', count=2035), Row(word='tortor.', count=363), Row(word='ut', count=3812), Row(word='pellentesque', count=2694), Row(word='eu.', count=546), Row(word='nunc', count=3391), Row(word='Pretium', count=255), Row(word='tellus', count=2407), Row(word='eget.', count=678), Row(word='fusce', count=385), Row(word='Sodales', count=100), Row(word='Lobortis', count=146), Row(word='augue', count=1226), Row(word='Pellentesque', count=500), Row(word='sit.', count=765), Row(word='Cras', count=245), Row(word='Nam', count=124), Row(word='Imperdiet', count=180), Row(word='arcu.', count=440), Row(word='id.', count=699), Row(word='Arcu', count=453), Row(word='Convallis', count=200), Row(word='id', count=3853), Row(word='commodo.', count=225), Row(word='Purus', count=326), Row(word='a.', count=387), Row(word='libero.', count=185), Row(word='elit,', count=5), Row(word='eleifend', count=598), Row(word='Etiam', count=169), Row(word='sociis', count=200), Row(word='rutrum', count=411), Row(word='viverra', count=2583), Row(word='Neque', count=333), Row(word='massa', count=2377), Row(word='Nisl', count=304), Row(word='convallis.', count=203), Row(word='tincidunt.', count=407), Row(word='Ipsum', count=286), Row(word='tempus.', count=183), Row(word='Placerat', count=141), Row(word='pharetra', count=1632), Row(word='est', count=1581), Row(word='Commodo', count=280), Row(word='habitasse.', count=64), Row(word='Dui', count=262), Row(word='Ante', count=76), Row(word='elit', count=1538), Row(word='condimentum.', count=138), Row(word='cum.', count=43), Row(word='Nisi', count=200), Row(word='dolor.', count=223), Row(word='Morbi', count=419), Row(word='sollicitudin.', count=152), Row(word='amet', count=4594), Row(word='elit.', count=282), Row(word='phasellus.', count=103), Row(word='Mi', count=308), Row(word='euismod.', count=203), Row(word='Nullam', count=148), Row(word='senectus', count=629), Row(word='duis', count=1178), Row(word='dictum.', count=193), Row(word='Eros', count=81), Row(word='adipiscing', count=1956), Row(word='cras.', count=253), Row(word='Pulvinar', count=238), Row(word='risus', count=2238)]\n",
      "Elasped time : 0.5288903713226318\n"
     ]
    }
   ],
   "source": [
    "start = time.time()\n",
    "\n",
    "text = spark.read.text(file_path)\n",
    "wordCounts = text.select(sf.explode(sf.split(text.value, \"\\s+\")).alias(\"word\")).groupBy(\"word\").count()\n",
    "result = wordCounts.collect()\n",
    "\n",
    "end = time.time()\n",
    "print(\"Word count :\", result)\n",
    "print(\"Elasped time :\", end - start)\n",
    "\n",
    "\n"
   ]
  },
  {
   "cell_type": "markdown",
   "id": "e5727520",
   "metadata": {},
   "source": [
    "On constate que le calcul est plus efficace en utilisant des DataFrames plutôt que les RDD.\n",
    "Cela est dû au fait que les DataFrames exploitent le Catalyst Optimizer"
   ]
  },
  {
   "cell_type": "code",
   "execution_count": 38,
   "id": "57699e8b",
   "metadata": {},
   "outputs": [],
   "source": [
    "spark.stop()"
   ]
  },
  {
   "cell_type": "markdown",
   "id": "b1749d62",
   "metadata": {},
   "source": [
    "## TODO : hadoop\n",
    "```bash\n",
    "cd notebook/hadoop  \n",
    "javac Words.java\n",
    "javac WordsJob.java\n",
    "hrestart\n",
    "h -put ../data/sample-2mb-text-file.txt /\n",
    "java WordsJob /sample-2mb-text-file.txt resultat\n",
    "```"
   ]
  }
 ],
 "metadata": {
  "kernelspec": {
   "display_name": "Python 3 (ipykernel)",
   "language": "python",
   "name": "python3"
  },
  "language_info": {
   "codemirror_mode": {
    "name": "ipython",
    "version": 3
   },
   "file_extension": ".py",
   "mimetype": "text/x-python",
   "name": "python",
   "nbconvert_exporter": "python",
   "pygments_lexer": "ipython3",
   "version": "3.10.12"
  }
 },
 "nbformat": 4,
 "nbformat_minor": 5
}
